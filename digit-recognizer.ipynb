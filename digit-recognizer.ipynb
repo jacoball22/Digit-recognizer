{
 "cells": [
  {
   "cell_type": "markdown",
   "id": "afccb2b7",
   "metadata": {
    "papermill": {
     "duration": 0.00704,
     "end_time": "2024-07-17T05:57:32.380804",
     "exception": false,
     "start_time": "2024-07-17T05:57:32.373764",
     "status": "completed"
    },
    "tags": []
   },
   "source": [
    "# **Import packages**"
   ]
  },
  {
   "cell_type": "code",
   "execution_count": 1,
   "id": "b151485f",
   "metadata": {
    "_cell_guid": "b1076dfc-b9ad-4769-8c92-a6c4dae69d19",
    "_uuid": "8f2839f25d086af736a60e9eeb907d3b93b6e0e5",
    "execution": {
     "iopub.execute_input": "2024-07-17T05:57:32.395860Z",
     "iopub.status.busy": "2024-07-17T05:57:32.395490Z",
     "iopub.status.idle": "2024-07-17T05:57:33.221830Z",
     "shell.execute_reply": "2024-07-17T05:57:33.220914Z"
    },
    "papermill": {
     "duration": 0.836762,
     "end_time": "2024-07-17T05:57:33.224314",
     "exception": false,
     "start_time": "2024-07-17T05:57:32.387552",
     "status": "completed"
    },
    "tags": []
   },
   "outputs": [],
   "source": [
    "import numpy as np # linear algebra\n",
    "import pandas as pd # data processing, CSV file I/O (e.g. pd.read_csv)\n",
    "from matplotlib import pyplot as plt "
   ]
  },
  {
   "cell_type": "markdown",
   "id": "5ec428fe",
   "metadata": {
    "papermill": {
     "duration": 0.006371,
     "end_time": "2024-07-17T05:57:33.237377",
     "exception": false,
     "start_time": "2024-07-17T05:57:33.231006",
     "status": "completed"
    },
    "tags": []
   },
   "source": [
    "# **Load data**"
   ]
  },
  {
   "cell_type": "code",
   "execution_count": 2,
   "id": "cacc76e5",
   "metadata": {
    "execution": {
     "iopub.execute_input": "2024-07-17T05:57:33.252206Z",
     "iopub.status.busy": "2024-07-17T05:57:33.251720Z",
     "iopub.status.idle": "2024-07-17T05:57:36.494960Z",
     "shell.execute_reply": "2024-07-17T05:57:36.493882Z"
    },
    "papermill": {
     "duration": 3.253663,
     "end_time": "2024-07-17T05:57:36.497608",
     "exception": false,
     "start_time": "2024-07-17T05:57:33.243945",
     "status": "completed"
    },
    "tags": []
   },
   "outputs": [],
   "source": [
    "data = pd.read_csv('/kaggle/input/digit-recognizer/train.csv')"
   ]
  },
  {
   "cell_type": "code",
   "execution_count": 3,
   "id": "eb663ce9",
   "metadata": {
    "execution": {
     "iopub.execute_input": "2024-07-17T05:57:36.513075Z",
     "iopub.status.busy": "2024-07-17T05:57:36.512154Z",
     "iopub.status.idle": "2024-07-17T05:57:36.539322Z",
     "shell.execute_reply": "2024-07-17T05:57:36.538344Z"
    },
    "papermill": {
     "duration": 0.037176,
     "end_time": "2024-07-17T05:57:36.541525",
     "exception": false,
     "start_time": "2024-07-17T05:57:36.504349",
     "status": "completed"
    },
    "tags": []
   },
   "outputs": [
    {
     "data": {
      "text/html": [
       "<div>\n",
       "<style scoped>\n",
       "    .dataframe tbody tr th:only-of-type {\n",
       "        vertical-align: middle;\n",
       "    }\n",
       "\n",
       "    .dataframe tbody tr th {\n",
       "        vertical-align: top;\n",
       "    }\n",
       "\n",
       "    .dataframe thead th {\n",
       "        text-align: right;\n",
       "    }\n",
       "</style>\n",
       "<table border=\"1\" class=\"dataframe\">\n",
       "  <thead>\n",
       "    <tr style=\"text-align: right;\">\n",
       "      <th></th>\n",
       "      <th>label</th>\n",
       "      <th>pixel0</th>\n",
       "      <th>pixel1</th>\n",
       "      <th>pixel2</th>\n",
       "      <th>pixel3</th>\n",
       "      <th>pixel4</th>\n",
       "      <th>pixel5</th>\n",
       "      <th>pixel6</th>\n",
       "      <th>pixel7</th>\n",
       "      <th>pixel8</th>\n",
       "      <th>...</th>\n",
       "      <th>pixel774</th>\n",
       "      <th>pixel775</th>\n",
       "      <th>pixel776</th>\n",
       "      <th>pixel777</th>\n",
       "      <th>pixel778</th>\n",
       "      <th>pixel779</th>\n",
       "      <th>pixel780</th>\n",
       "      <th>pixel781</th>\n",
       "      <th>pixel782</th>\n",
       "      <th>pixel783</th>\n",
       "    </tr>\n",
       "  </thead>\n",
       "  <tbody>\n",
       "    <tr>\n",
       "      <th>0</th>\n",
       "      <td>1</td>\n",
       "      <td>0</td>\n",
       "      <td>0</td>\n",
       "      <td>0</td>\n",
       "      <td>0</td>\n",
       "      <td>0</td>\n",
       "      <td>0</td>\n",
       "      <td>0</td>\n",
       "      <td>0</td>\n",
       "      <td>0</td>\n",
       "      <td>...</td>\n",
       "      <td>0</td>\n",
       "      <td>0</td>\n",
       "      <td>0</td>\n",
       "      <td>0</td>\n",
       "      <td>0</td>\n",
       "      <td>0</td>\n",
       "      <td>0</td>\n",
       "      <td>0</td>\n",
       "      <td>0</td>\n",
       "      <td>0</td>\n",
       "    </tr>\n",
       "    <tr>\n",
       "      <th>1</th>\n",
       "      <td>0</td>\n",
       "      <td>0</td>\n",
       "      <td>0</td>\n",
       "      <td>0</td>\n",
       "      <td>0</td>\n",
       "      <td>0</td>\n",
       "      <td>0</td>\n",
       "      <td>0</td>\n",
       "      <td>0</td>\n",
       "      <td>0</td>\n",
       "      <td>...</td>\n",
       "      <td>0</td>\n",
       "      <td>0</td>\n",
       "      <td>0</td>\n",
       "      <td>0</td>\n",
       "      <td>0</td>\n",
       "      <td>0</td>\n",
       "      <td>0</td>\n",
       "      <td>0</td>\n",
       "      <td>0</td>\n",
       "      <td>0</td>\n",
       "    </tr>\n",
       "    <tr>\n",
       "      <th>2</th>\n",
       "      <td>1</td>\n",
       "      <td>0</td>\n",
       "      <td>0</td>\n",
       "      <td>0</td>\n",
       "      <td>0</td>\n",
       "      <td>0</td>\n",
       "      <td>0</td>\n",
       "      <td>0</td>\n",
       "      <td>0</td>\n",
       "      <td>0</td>\n",
       "      <td>...</td>\n",
       "      <td>0</td>\n",
       "      <td>0</td>\n",
       "      <td>0</td>\n",
       "      <td>0</td>\n",
       "      <td>0</td>\n",
       "      <td>0</td>\n",
       "      <td>0</td>\n",
       "      <td>0</td>\n",
       "      <td>0</td>\n",
       "      <td>0</td>\n",
       "    </tr>\n",
       "    <tr>\n",
       "      <th>3</th>\n",
       "      <td>4</td>\n",
       "      <td>0</td>\n",
       "      <td>0</td>\n",
       "      <td>0</td>\n",
       "      <td>0</td>\n",
       "      <td>0</td>\n",
       "      <td>0</td>\n",
       "      <td>0</td>\n",
       "      <td>0</td>\n",
       "      <td>0</td>\n",
       "      <td>...</td>\n",
       "      <td>0</td>\n",
       "      <td>0</td>\n",
       "      <td>0</td>\n",
       "      <td>0</td>\n",
       "      <td>0</td>\n",
       "      <td>0</td>\n",
       "      <td>0</td>\n",
       "      <td>0</td>\n",
       "      <td>0</td>\n",
       "      <td>0</td>\n",
       "    </tr>\n",
       "    <tr>\n",
       "      <th>4</th>\n",
       "      <td>0</td>\n",
       "      <td>0</td>\n",
       "      <td>0</td>\n",
       "      <td>0</td>\n",
       "      <td>0</td>\n",
       "      <td>0</td>\n",
       "      <td>0</td>\n",
       "      <td>0</td>\n",
       "      <td>0</td>\n",
       "      <td>0</td>\n",
       "      <td>...</td>\n",
       "      <td>0</td>\n",
       "      <td>0</td>\n",
       "      <td>0</td>\n",
       "      <td>0</td>\n",
       "      <td>0</td>\n",
       "      <td>0</td>\n",
       "      <td>0</td>\n",
       "      <td>0</td>\n",
       "      <td>0</td>\n",
       "      <td>0</td>\n",
       "    </tr>\n",
       "  </tbody>\n",
       "</table>\n",
       "<p>5 rows × 785 columns</p>\n",
       "</div>"
      ],
      "text/plain": [
       "   label  pixel0  pixel1  pixel2  pixel3  pixel4  pixel5  pixel6  pixel7  \\\n",
       "0      1       0       0       0       0       0       0       0       0   \n",
       "1      0       0       0       0       0       0       0       0       0   \n",
       "2      1       0       0       0       0       0       0       0       0   \n",
       "3      4       0       0       0       0       0       0       0       0   \n",
       "4      0       0       0       0       0       0       0       0       0   \n",
       "\n",
       "   pixel8  ...  pixel774  pixel775  pixel776  pixel777  pixel778  pixel779  \\\n",
       "0       0  ...         0         0         0         0         0         0   \n",
       "1       0  ...         0         0         0         0         0         0   \n",
       "2       0  ...         0         0         0         0         0         0   \n",
       "3       0  ...         0         0         0         0         0         0   \n",
       "4       0  ...         0         0         0         0         0         0   \n",
       "\n",
       "   pixel780  pixel781  pixel782  pixel783  \n",
       "0         0         0         0         0  \n",
       "1         0         0         0         0  \n",
       "2         0         0         0         0  \n",
       "3         0         0         0         0  \n",
       "4         0         0         0         0  \n",
       "\n",
       "[5 rows x 785 columns]"
      ]
     },
     "execution_count": 3,
     "metadata": {},
     "output_type": "execute_result"
    }
   ],
   "source": [
    "data.head()"
   ]
  },
  {
   "cell_type": "markdown",
   "id": "ee1075f7",
   "metadata": {
    "papermill": {
     "duration": 0.00666,
     "end_time": "2024-07-17T05:57:36.555029",
     "exception": false,
     "start_time": "2024-07-17T05:57:36.548369",
     "status": "completed"
    },
    "tags": []
   },
   "source": [
    "# **Split data to test & train**"
   ]
  },
  {
   "cell_type": "code",
   "execution_count": 4,
   "id": "481e226a",
   "metadata": {
    "execution": {
     "iopub.execute_input": "2024-07-17T05:57:36.570539Z",
     "iopub.status.busy": "2024-07-17T05:57:36.569872Z",
     "iopub.status.idle": "2024-07-17T05:57:37.361083Z",
     "shell.execute_reply": "2024-07-17T05:57:37.360060Z"
    },
    "papermill": {
     "duration": 0.801973,
     "end_time": "2024-07-17T05:57:37.363804",
     "exception": false,
     "start_time": "2024-07-17T05:57:36.561831",
     "status": "completed"
    },
    "tags": []
   },
   "outputs": [],
   "source": [
    "data = np.array(data)\n",
    "m, n = data.shape # 42001*785\n",
    "np.random.shuffle(data)\n",
    "\n",
    "data_test = data[0:1000].T  \n",
    "# we take only 1000 examples and we are sure that every number is there \n",
    "Y_test = data_test[0]  # the results array (1 2 3 4 6 9 8 ...)\n",
    "X_test = data_test[1:n]  # matrix of the pixels witout the label row\n",
    "X_test = X_test / 255\n",
    "\n",
    "data_train = data[1000:m].T\n",
    "Y_train = data_train[0]\n",
    "X_train = data_train[1:n]\n",
    "X_train = X_train / 255\n"
   ]
  },
  {
   "cell_type": "markdown",
   "id": "dc767010",
   "metadata": {
    "papermill": {
     "duration": 0.007707,
     "end_time": "2024-07-17T05:57:37.379822",
     "exception": false,
     "start_time": "2024-07-17T05:57:37.372115",
     "status": "completed"
    },
    "tags": []
   },
   "source": [
    "# **Check dimensions**"
   ]
  },
  {
   "cell_type": "code",
   "execution_count": 5,
   "id": "f3f4e5db",
   "metadata": {
    "execution": {
     "iopub.execute_input": "2024-07-17T05:57:37.395854Z",
     "iopub.status.busy": "2024-07-17T05:57:37.395495Z",
     "iopub.status.idle": "2024-07-17T05:57:37.425874Z",
     "shell.execute_reply": "2024-07-17T05:57:37.424823Z"
    },
    "papermill": {
     "duration": 0.04134,
     "end_time": "2024-07-17T05:57:37.428266",
     "exception": false,
     "start_time": "2024-07-17T05:57:37.386926",
     "status": "completed"
    },
    "tags": []
   },
   "outputs": [
    {
     "name": "stdout",
     "output_type": "stream",
     "text": [
      "\n",
      "Grid Table:\n",
      "+----------+--------------+\n",
      "| Matrix   | Dimensions   |\n",
      "+==========+==============+\n",
      "| Y_test   | (1000,)      |\n",
      "+----------+--------------+\n",
      "| X_test   | (784, 1000)  |\n",
      "+----------+--------------+\n",
      "| Y_train  | (41000,)     |\n",
      "+----------+--------------+\n",
      "| X_train  | (784, 41000) |\n",
      "+----------+--------------+\n"
     ]
    }
   ],
   "source": [
    "import numpy as np\n",
    "import pandas as pd\n",
    "from tabulate import tabulate  # Import the tabulate function\n",
    "\n",
    "# Define the matrices and their dimensions\n",
    "matrices = {\n",
    "    'Matrix': ['Y_test', 'X_test', 'Y_train', 'X_train'],\n",
    "    'Dimensions': [Y_test.shape, X_test.shape, Y_train.shape, X_train.shape]\n",
    "}\n",
    "\n",
    "# Create a DataFrame from the matrices dictionary\n",
    "df = pd.DataFrame(matrices)\n",
    "\n",
    "# Convert the DataFrame to a list of lists for tabulate\n",
    "table = df.values.tolist()\n",
    "\n",
    "# Define the headers for the table\n",
    "headers = df.columns\n",
    "\n",
    "print(\"\\nGrid Table:\")\n",
    "print(tabulate(table, headers=headers, tablefmt='grid'))\n",
    "\n"
   ]
  },
  {
   "cell_type": "markdown",
   "id": "a4892480",
   "metadata": {
    "papermill": {
     "duration": 0.006845,
     "end_time": "2024-07-17T05:57:37.442395",
     "exception": false,
     "start_time": "2024-07-17T05:57:37.435550",
     "status": "completed"
    },
    "tags": []
   },
   "source": [
    "# **Initialisation of parameters**"
   ]
  },
  {
   "cell_type": "code",
   "execution_count": 6,
   "id": "5339c1be",
   "metadata": {
    "execution": {
     "iopub.execute_input": "2024-07-17T05:57:37.458079Z",
     "iopub.status.busy": "2024-07-17T05:57:37.457698Z",
     "iopub.status.idle": "2024-07-17T05:57:37.465023Z",
     "shell.execute_reply": "2024-07-17T05:57:37.464025Z"
    },
    "papermill": {
     "duration": 0.01782,
     "end_time": "2024-07-17T05:57:37.467188",
     "exception": false,
     "start_time": "2024-07-17T05:57:37.449368",
     "status": "completed"
    },
    "tags": []
   },
   "outputs": [
    {
     "data": {
      "text/plain": [
       "'\\ndef init_params():\\n    W1 = np.random.rand(10,784) \\n    b1 = np.random.rand(10,1) \\n    W2 = np.random.rand(10,10) \\n    b2 = np.random.rand(10,1) \\n    return W1, b1, W2, b2 \\n\\ndef init_params():\\n    W1 = np.random.rand(10,784) - 0.5\\n    b1 = np.random.rand(10,1) - 0.5\\n    W2 = np.random.rand(10,10) - 0.5\\n    b2 = np.random.rand(10,1) - 0.5\\n    return W1, b1, W2, b2 \\n\\n# Xavier initialization\\n\\ndef init_params():\\n    W1 = np.random.randn(10, 784) * np.sqrt(1. / 784)  # Xavier initialization for W1\\n    b1 = np.zeros((10, 1))  # Biases initialized to zero\\n    W2 = np.random.randn(10, 10) * np.sqrt(1. / 10)  # Xavier initialization for W2\\n    b2 = np.zeros((10, 1))  # Biases initialized to zero\\n    return W1, b1, W2, b2\\n'"
      ]
     },
     "execution_count": 6,
     "metadata": {},
     "output_type": "execute_result"
    }
   ],
   "source": [
    "'''\n",
    "def init_params():\n",
    "    W1 = np.random.rand(10,784) \n",
    "    b1 = np.random.rand(10,1) \n",
    "    W2 = np.random.rand(10,10) \n",
    "    b2 = np.random.rand(10,1) \n",
    "    return W1, b1, W2, b2 \n",
    "\n",
    "def init_params():\n",
    "    W1 = np.random.rand(10,784) - 0.5\n",
    "    b1 = np.random.rand(10,1) - 0.5\n",
    "    W2 = np.random.rand(10,10) - 0.5\n",
    "    b2 = np.random.rand(10,1) - 0.5\n",
    "    return W1, b1, W2, b2 \n",
    "\n",
    "# Xavier initialization\n",
    "\n",
    "def init_params():\n",
    "    W1 = np.random.randn(10, 784) * np.sqrt(1. / 784)  # Xavier initialization for W1\n",
    "    b1 = np.zeros((10, 1))  # Biases initialized to zero\n",
    "    W2 = np.random.randn(10, 10) * np.sqrt(1. / 10)  # Xavier initialization for W2\n",
    "    b2 = np.zeros((10, 1))  # Biases initialized to zero\n",
    "    return W1, b1, W2, b2\n",
    "'''\n",
    "\n",
    "# first I didn't put the -0.5 so the random data was between 0 and 1 which is not the optimal\n",
    "# initialisation it have a slow learning rate so we centerd the weights and the bias around 0 [-0.5 , 0.5]"
   ]
  },
  {
   "cell_type": "markdown",
   "id": "9a066439",
   "metadata": {
    "papermill": {
     "duration": 0.006994,
     "end_time": "2024-07-17T05:57:37.481634",
     "exception": false,
     "start_time": "2024-07-17T05:57:37.474640",
     "status": "completed"
    },
    "tags": []
   },
   "source": [
    "# **Optimal Initialisation method**"
   ]
  },
  {
   "cell_type": "code",
   "execution_count": 7,
   "id": "0e7584bf",
   "metadata": {
    "execution": {
     "iopub.execute_input": "2024-07-17T05:57:37.498567Z",
     "iopub.status.busy": "2024-07-17T05:57:37.498154Z",
     "iopub.status.idle": "2024-07-17T05:57:37.504086Z",
     "shell.execute_reply": "2024-07-17T05:57:37.503094Z"
    },
    "papermill": {
     "duration": 0.017028,
     "end_time": "2024-07-17T05:57:37.506337",
     "exception": false,
     "start_time": "2024-07-17T05:57:37.489309",
     "status": "completed"
    },
    "tags": []
   },
   "outputs": [],
   "source": [
    "# He initialization (optimal)\n",
    "\n",
    "def init_params():\n",
    "    W1 = np.random.randn(10, 784) * np.sqrt(2. / 784)  # He initialization for W1\n",
    "    b1 = np.zeros((10, 1))  # Biases initialized to zero\n",
    "    W2 = np.random.randn(10, 10) * np.sqrt(2. / 10)  # He initialization for W2\n",
    "    b2 = np.zeros((10, 1))  # Biases initialized to zero\n",
    "    return W1, b1, W2, b2\n"
   ]
  },
  {
   "cell_type": "markdown",
   "id": "a8515cbc",
   "metadata": {
    "papermill": {
     "duration": 0.007057,
     "end_time": "2024-07-17T05:57:37.520692",
     "exception": false,
     "start_time": "2024-07-17T05:57:37.513635",
     "status": "completed"
    },
    "tags": []
   },
   "source": [
    "# **Foawrd Propagation**"
   ]
  },
  {
   "cell_type": "code",
   "execution_count": 8,
   "id": "ed93e219",
   "metadata": {
    "execution": {
     "iopub.execute_input": "2024-07-17T05:57:37.537008Z",
     "iopub.status.busy": "2024-07-17T05:57:37.536632Z",
     "iopub.status.idle": "2024-07-17T05:57:37.543143Z",
     "shell.execute_reply": "2024-07-17T05:57:37.542151Z"
    },
    "papermill": {
     "duration": 0.017302,
     "end_time": "2024-07-17T05:57:37.545357",
     "exception": false,
     "start_time": "2024-07-17T05:57:37.528055",
     "status": "completed"
    },
    "tags": []
   },
   "outputs": [],
   "source": [
    "def ReLu(Z):\n",
    "    return np.maximum(0,Z)\n",
    "\n",
    "def softmax(Z):\n",
    "    expZ = np.exp(Z - np.max(Z, axis=0))\n",
    "    return expZ / expZ.sum(axis=0, keepdims=True)\n",
    "# to change the data to a Probability Distribution \n",
    "\n",
    "    \n",
    "def FP(W1, b1, W2, b2, X):\n",
    "    Z1 = W1.dot(X) + b1\n",
    "    A1 = ReLu(Z1)\n",
    "    Z2 = W2.dot(A1) + b2\n",
    "    A2 = softmax(Z2)\n",
    "    return Z1, A1, Z2, A2"
   ]
  },
  {
   "cell_type": "markdown",
   "id": "953eea82",
   "metadata": {
    "papermill": {
     "duration": 0.007102,
     "end_time": "2024-07-17T05:57:37.559737",
     "exception": false,
     "start_time": "2024-07-17T05:57:37.552635",
     "status": "completed"
    },
    "tags": []
   },
   "source": [
    "# **Backward Propagation**"
   ]
  },
  {
   "cell_type": "code",
   "execution_count": 9,
   "id": "7faad3df",
   "metadata": {
    "execution": {
     "iopub.execute_input": "2024-07-17T05:57:37.575916Z",
     "iopub.status.busy": "2024-07-17T05:57:37.575542Z",
     "iopub.status.idle": "2024-07-17T05:57:37.583262Z",
     "shell.execute_reply": "2024-07-17T05:57:37.582236Z"
    },
    "papermill": {
     "duration": 0.018426,
     "end_time": "2024-07-17T05:57:37.585433",
     "exception": false,
     "start_time": "2024-07-17T05:57:37.567007",
     "status": "completed"
    },
    "tags": []
   },
   "outputs": [],
   "source": [
    "def one_hot(y):\n",
    "    one_hot_y = np.zeros((y.size, y.max() + 1))\n",
    "    # this creat a matrix of zeros [42000 ,10]\n",
    "    one_hot_y[np.arange(y.size), y] = 1\n",
    "    # this is smart indexing np.arange(y.size) creat an array [42000,1] with integers from 0 to 41999 just for indexing the row\n",
    "    # y is the array of labels [1, 42000] inside thers are just numbers from 0 to 9 so in each row we put 1 in the right place \n",
    "    # we transpose to get [10, 42000] because the result is at 10 neurons\n",
    "    return one_hot_y.T \n",
    "\n",
    "def deriv_ReLu(Z):\n",
    "    return Z > 0 \n",
    "# this function is the derivate of the ReLu function which is either 0 if negative or 1 if positive and true = 1 false = 0 \n",
    "\n",
    "def BP(Z1, A1, Z2, A2, W2, X, Y):\n",
    "    m = Y.size\n",
    "    one_hot_y = one_hot(Y)\n",
    "    dZ2 = A2 - one_hot_y\n",
    "    dW2 = 1 / m * dZ2.dot(A1.T)\n",
    "    db2 = 1 / m * np.sum(dZ2, axis=1, keepdims=True)\n",
    "    dZ1 = W2.T.dot(dZ2) * deriv_ReLu(Z1)\n",
    "    dW1 = 1 / m * dZ1.dot(X.T)\n",
    "    db1 = 1 / m * np.sum(dZ1, axis=1, keepdims=True)\n",
    "    return dW1, dW2, db1, db2"
   ]
  },
  {
   "cell_type": "markdown",
   "id": "c2b4dd7f",
   "metadata": {
    "papermill": {
     "duration": 0.007249,
     "end_time": "2024-07-17T05:57:37.599990",
     "exception": false,
     "start_time": "2024-07-17T05:57:37.592741",
     "status": "completed"
    },
    "tags": []
   },
   "source": [
    "# **Update Paramerts**"
   ]
  },
  {
   "cell_type": "code",
   "execution_count": 10,
   "id": "25f97c64",
   "metadata": {
    "execution": {
     "iopub.execute_input": "2024-07-17T05:57:37.616258Z",
     "iopub.status.busy": "2024-07-17T05:57:37.615868Z",
     "iopub.status.idle": "2024-07-17T05:57:37.621469Z",
     "shell.execute_reply": "2024-07-17T05:57:37.620337Z"
    },
    "papermill": {
     "duration": 0.016471,
     "end_time": "2024-07-17T05:57:37.623685",
     "exception": false,
     "start_time": "2024-07-17T05:57:37.607214",
     "status": "completed"
    },
    "tags": []
   },
   "outputs": [],
   "source": [
    "def Update_pram(W1, W2, b1, b2, dW1, dW2, db1, db2, ALPHA):\n",
    "    W1 = W1 - ALPHA * dW1\n",
    "    b1 = b1 - ALPHA * db1\n",
    "    W2 = W2 - ALPHA * dW2\n",
    "    b2 = b2 - ALPHA * db2\n",
    "    return W1, b1, W2, b2\n",
    "\n"
   ]
  },
  {
   "cell_type": "markdown",
   "id": "860a24f8",
   "metadata": {
    "papermill": {
     "duration": 0.006941,
     "end_time": "2024-07-17T05:57:37.637810",
     "exception": false,
     "start_time": "2024-07-17T05:57:37.630869",
     "status": "completed"
    },
    "tags": []
   },
   "source": [
    "# **Gradient Descent**"
   ]
  },
  {
   "cell_type": "code",
   "execution_count": 11,
   "id": "ddb6f783",
   "metadata": {
    "execution": {
     "iopub.execute_input": "2024-07-17T05:57:37.653721Z",
     "iopub.status.busy": "2024-07-17T05:57:37.653347Z",
     "iopub.status.idle": "2024-07-17T05:57:37.661503Z",
     "shell.execute_reply": "2024-07-17T05:57:37.660357Z"
    },
    "papermill": {
     "duration": 0.018661,
     "end_time": "2024-07-17T05:57:37.663683",
     "exception": false,
     "start_time": "2024-07-17T05:57:37.645022",
     "status": "completed"
    },
    "tags": []
   },
   "outputs": [],
   "source": [
    "def get_predictions(A2):\n",
    "    return np.argmax(A2, 0)\n",
    "\n",
    "#Implicit Mapping:\n",
    "\n",
    "#The way neural networks implicitly map the output layer's neurons to class labels can be unclear. \n",
    "#Newcomers might not realize that there's an assumed order (index 0 is class 0, index 1 is class 1, etc.).\n",
    "\n",
    "def get_accuracy(predictions, Y):\n",
    "    print(predictions, Y)\n",
    "    return np.sum(predictions == Y) / Y.size\n",
    "\n",
    "def gradient_descent(X, Y, iterations, ALPHA):\n",
    "    W1, b1, W2, b2 = init_params()\n",
    "    for i in range(iterations):\n",
    "        Z1, A1, Z2, A2 = FP(W1, b1, W2, b2, X)\n",
    "        dW1, dW2, db1, db2 = BP(Z1, A1, Z2, A2, W2, X, Y)\n",
    "        W1, b1, W2, b2 = Update_pram(W1, W2, b1, b2, dW1, dW2, db1, db2, ALPHA)\n",
    "        if i % 10 == 0:\n",
    "            print(\"Iteration: \", i)\n",
    "            print(\"Accuracy: \", get_accuracy(get_predictions(A2), Y))\n",
    "    return W1, b1, W2, b2\n",
    "    "
   ]
  },
  {
   "cell_type": "markdown",
   "id": "5ecdf9c8",
   "metadata": {
    "papermill": {
     "duration": 0.007157,
     "end_time": "2024-07-17T05:57:37.678513",
     "exception": false,
     "start_time": "2024-07-17T05:57:37.671356",
     "status": "completed"
    },
    "tags": []
   },
   "source": [
    "# **Training**"
   ]
  },
  {
   "cell_type": "code",
   "execution_count": 12,
   "id": "ca3518cc",
   "metadata": {
    "collapsed": true,
    "execution": {
     "iopub.execute_input": "2024-07-17T05:57:37.694570Z",
     "iopub.status.busy": "2024-07-17T05:57:37.694149Z",
     "iopub.status.idle": "2024-07-17T05:58:27.677070Z",
     "shell.execute_reply": "2024-07-17T05:58:27.675825Z"
    },
    "jupyter": {
     "outputs_hidden": true
    },
    "papermill": {
     "duration": 49.995254,
     "end_time": "2024-07-17T05:58:27.680963",
     "exception": false,
     "start_time": "2024-07-17T05:57:37.685709",
     "status": "completed"
    },
    "tags": []
   },
   "outputs": [
    {
     "name": "stdout",
     "output_type": "stream",
     "text": [
      "Iteration:  0\n",
      "[6 0 1 ... 1 1 1] [6 5 8 ... 8 3 8]\n",
      "Accuracy:  0.09741463414634147\n",
      "Iteration:  10\n",
      "[6 0 1 ... 1 5 8] [6 5 8 ... 8 3 8]\n",
      "Accuracy:  0.34824390243902437\n",
      "Iteration:  20\n",
      "[6 0 1 ... 6 5 8] [6 5 8 ... 8 3 8]\n",
      "Accuracy:  0.52\n",
      "Iteration:  30\n",
      "[6 0 8 ... 6 3 8] [6 5 8 ... 8 3 8]\n",
      "Accuracy:  0.7069512195121951\n",
      "Iteration:  40\n",
      "[6 5 8 ... 2 3 8] [6 5 8 ... 8 3 8]\n",
      "Accuracy:  0.7660731707317073\n",
      "Iteration:  50\n",
      "[6 5 8 ... 2 3 8] [6 5 8 ... 8 3 8]\n",
      "Accuracy:  0.7931219512195122\n",
      "Iteration:  60\n",
      "[6 5 8 ... 2 3 8] [6 5 8 ... 8 3 8]\n",
      "Accuracy:  0.8115609756097562\n",
      "Iteration:  70\n",
      "[6 5 8 ... 2 3 8] [6 5 8 ... 8 3 8]\n",
      "Accuracy:  0.8260975609756097\n",
      "Iteration:  80\n",
      "[6 5 8 ... 2 3 8] [6 5 8 ... 8 3 8]\n",
      "Accuracy:  0.8380243902439024\n",
      "Iteration:  90\n",
      "[6 5 8 ... 2 3 8] [6 5 8 ... 8 3 8]\n",
      "Accuracy:  0.8455121951219512\n",
      "Iteration:  100\n",
      "[6 5 8 ... 2 3 8] [6 5 8 ... 8 3 8]\n",
      "Accuracy:  0.853390243902439\n",
      "Iteration:  110\n",
      "[6 5 8 ... 8 3 8] [6 5 8 ... 8 3 8]\n",
      "Accuracy:  0.859\n",
      "Iteration:  120\n",
      "[6 5 8 ... 8 3 8] [6 5 8 ... 8 3 8]\n",
      "Accuracy:  0.8634390243902439\n",
      "Iteration:  130\n",
      "[6 5 8 ... 8 3 8] [6 5 8 ... 8 3 8]\n",
      "Accuracy:  0.8675365853658537\n",
      "Iteration:  140\n",
      "[6 5 8 ... 8 3 8] [6 5 8 ... 8 3 8]\n",
      "Accuracy:  0.8705121951219512\n",
      "Iteration:  150\n",
      "[6 5 8 ... 8 3 8] [6 5 8 ... 8 3 8]\n",
      "Accuracy:  0.8733658536585366\n",
      "Iteration:  160\n",
      "[6 5 8 ... 8 3 8] [6 5 8 ... 8 3 8]\n",
      "Accuracy:  0.8755853658536585\n",
      "Iteration:  170\n",
      "[6 5 8 ... 8 3 8] [6 5 8 ... 8 3 8]\n",
      "Accuracy:  0.8776341463414634\n",
      "Iteration:  180\n",
      "[6 5 8 ... 8 3 8] [6 5 8 ... 8 3 8]\n",
      "Accuracy:  0.8798780487804878\n",
      "Iteration:  190\n",
      "[6 5 8 ... 8 3 8] [6 5 8 ... 8 3 8]\n",
      "Accuracy:  0.8816829268292683\n",
      "Iteration:  200\n",
      "[6 5 8 ... 8 3 8] [6 5 8 ... 8 3 8]\n",
      "Accuracy:  0.8837073170731707\n",
      "Iteration:  210\n",
      "[6 5 8 ... 8 3 8] [6 5 8 ... 8 3 8]\n",
      "Accuracy:  0.8848536585365854\n",
      "Iteration:  220\n",
      "[6 5 8 ... 8 3 8] [6 5 8 ... 8 3 8]\n",
      "Accuracy:  0.8863170731707317\n",
      "Iteration:  230\n",
      "[6 5 8 ... 8 3 8] [6 5 8 ... 8 3 8]\n",
      "Accuracy:  0.8877560975609756\n",
      "Iteration:  240\n",
      "[6 5 8 ... 8 3 8] [6 5 8 ... 8 3 8]\n",
      "Accuracy:  0.8891951219512195\n",
      "Iteration:  250\n",
      "[6 5 8 ... 8 3 8] [6 5 8 ... 8 3 8]\n",
      "Accuracy:  0.8905609756097561\n",
      "Iteration:  260\n",
      "[6 5 8 ... 8 3 8] [6 5 8 ... 8 3 8]\n",
      "Accuracy:  0.8918536585365854\n",
      "Iteration:  270\n",
      "[6 5 8 ... 8 3 8] [6 5 8 ... 8 3 8]\n",
      "Accuracy:  0.8930731707317073\n",
      "Iteration:  280\n",
      "[6 5 8 ... 8 3 8] [6 5 8 ... 8 3 8]\n",
      "Accuracy:  0.8941951219512195\n",
      "Iteration:  290\n",
      "[6 5 8 ... 8 3 8] [6 5 8 ... 8 3 8]\n",
      "Accuracy:  0.8951951219512195\n",
      "Iteration:  300\n",
      "[6 5 8 ... 8 3 8] [6 5 8 ... 8 3 8]\n",
      "Accuracy:  0.8961463414634147\n",
      "Iteration:  310\n",
      "[6 5 8 ... 8 3 8] [6 5 8 ... 8 3 8]\n",
      "Accuracy:  0.8970487804878049\n",
      "Iteration:  320\n",
      "[6 5 8 ... 8 3 8] [6 5 8 ... 8 3 8]\n",
      "Accuracy:  0.8977560975609756\n",
      "Iteration:  330\n",
      "[6 5 8 ... 8 3 8] [6 5 8 ... 8 3 8]\n",
      "Accuracy:  0.8987560975609756\n",
      "Iteration:  340\n",
      "[6 5 8 ... 8 3 8] [6 5 8 ... 8 3 8]\n",
      "Accuracy:  0.8994146341463415\n",
      "Iteration:  350\n",
      "[6 5 8 ... 8 3 8] [6 5 8 ... 8 3 8]\n",
      "Accuracy:  0.9000487804878049\n",
      "Iteration:  360\n",
      "[6 5 8 ... 8 3 8] [6 5 8 ... 8 3 8]\n",
      "Accuracy:  0.9008780487804878\n",
      "Iteration:  370\n",
      "[6 5 8 ... 8 3 8] [6 5 8 ... 8 3 8]\n",
      "Accuracy:  0.9020731707317073\n",
      "Iteration:  380\n",
      "[6 5 8 ... 8 3 8] [6 5 8 ... 8 3 8]\n",
      "Accuracy:  0.9026585365853659\n",
      "Iteration:  390\n",
      "[6 5 8 ... 8 3 8] [6 5 8 ... 8 3 8]\n",
      "Accuracy:  0.9031463414634147\n",
      "Iteration:  400\n",
      "[6 5 8 ... 8 3 8] [6 5 8 ... 8 3 8]\n",
      "Accuracy:  0.9036829268292683\n",
      "Iteration:  410\n",
      "[6 5 8 ... 8 3 8] [6 5 8 ... 8 3 8]\n",
      "Accuracy:  0.9040487804878049\n",
      "Iteration:  420\n",
      "[6 5 8 ... 8 3 8] [6 5 8 ... 8 3 8]\n",
      "Accuracy:  0.9045121951219512\n",
      "Iteration:  430\n",
      "[6 5 8 ... 8 3 8] [6 5 8 ... 8 3 8]\n",
      "Accuracy:  0.9050731707317073\n",
      "Iteration:  440\n",
      "[6 5 8 ... 8 3 8] [6 5 8 ... 8 3 8]\n",
      "Accuracy:  0.9057317073170732\n",
      "Iteration:  450\n",
      "[6 5 8 ... 8 3 8] [6 5 8 ... 8 3 8]\n",
      "Accuracy:  0.9063658536585366\n",
      "Iteration:  460\n",
      "[6 5 8 ... 8 3 8] [6 5 8 ... 8 3 8]\n",
      "Accuracy:  0.9067317073170732\n",
      "Iteration:  470\n",
      "[6 5 8 ... 8 3 8] [6 5 8 ... 8 3 8]\n",
      "Accuracy:  0.9069512195121952\n",
      "Iteration:  480\n",
      "[6 5 8 ... 8 3 8] [6 5 8 ... 8 3 8]\n",
      "Accuracy:  0.9071707317073171\n",
      "Iteration:  490\n",
      "[6 5 8 ... 8 3 8] [6 5 8 ... 8 3 8]\n",
      "Accuracy:  0.9077317073170732\n"
     ]
    }
   ],
   "source": [
    "W1, b1, W2, b2 = gradient_descent(X_train, Y_train, 500, 0.1)"
   ]
  },
  {
   "cell_type": "markdown",
   "id": "d3a2a91a",
   "metadata": {
    "papermill": {
     "duration": 0.016663,
     "end_time": "2024-07-17T05:58:27.717123",
     "exception": false,
     "start_time": "2024-07-17T05:58:27.700460",
     "status": "completed"
    },
    "tags": []
   },
   "source": [
    "# **Compare Initialisation methodes**"
   ]
  },
  {
   "cell_type": "code",
   "execution_count": 13,
   "id": "1408d229",
   "metadata": {
    "execution": {
     "iopub.execute_input": "2024-07-17T05:58:27.754693Z",
     "iopub.status.busy": "2024-07-17T05:58:27.754164Z",
     "iopub.status.idle": "2024-07-17T05:58:27.763944Z",
     "shell.execute_reply": "2024-07-17T05:58:27.762754Z"
    },
    "papermill": {
     "duration": 0.033169,
     "end_time": "2024-07-17T05:58:27.768013",
     "exception": false,
     "start_time": "2024-07-17T05:58:27.734844",
     "status": "completed"
    },
    "tags": []
   },
   "outputs": [
    {
     "name": "stdout",
     "output_type": "stream",
     "text": [
      "+-----------------------+------------+------------------------------------------------------------------------+\n",
      "| Method                | Accuracy   | Description                                                            |\n",
      "+=======================+============+========================================================================+\n",
      "| Uniform [0, 1]        | 12.24%     | Random weights and biases in a narrow range                            |\n",
      "+-----------------------+------------+------------------------------------------------------------------------+\n",
      "| Uniform [-0.5, 0.5]   | 84.7%      | Random weights and biases in a wider range                             |\n",
      "+-----------------------+------------+------------------------------------------------------------------------+\n",
      "| Xavier Initialization | 90.13%     | Adjusts weights to maintain variance through layers                    |\n",
      "+-----------------------+------------+------------------------------------------------------------------------+\n",
      "| He Initialization     | 90.78%     | Optimized for ReLU activations, adjusts weights for better performance |\n",
      "+-----------------------+------------+------------------------------------------------------------------------+\n"
     ]
    }
   ],
   "source": [
    "from tabulate import tabulate\n",
    "\n",
    "# Define data for the table\n",
    "data = [\n",
    "    ['Uniform [0, 1]', '12.24%', 'Random weights and biases in a narrow range'],\n",
    "    ['Uniform [-0.5, 0.5]', '84.7%', 'Random weights and biases in a wider range'],\n",
    "    ['Xavier Initialization', '90.13%', 'Adjusts weights to maintain variance through layers'],\n",
    "    ['He Initialization', '90.78%', 'Optimized for ReLU activations, adjusts weights for better performance']\n",
    "]\n",
    "\n",
    "# Define column headers\n",
    "headers = ['Method', 'Accuracy', 'Description']\n",
    "\n",
    "# Create and print the table\n",
    "print(tabulate(data, headers=headers, tablefmt='grid'))\n"
   ]
  },
  {
   "cell_type": "markdown",
   "id": "225aec2c",
   "metadata": {
    "papermill": {
     "duration": 0.014101,
     "end_time": "2024-07-17T05:58:27.799568",
     "exception": false,
     "start_time": "2024-07-17T05:58:27.785467",
     "status": "completed"
    },
    "tags": []
   },
   "source": [
    "# **Make predictions on the Training data**"
   ]
  },
  {
   "cell_type": "code",
   "execution_count": 14,
   "id": "b9007fdf",
   "metadata": {
    "execution": {
     "iopub.execute_input": "2024-07-17T05:58:27.822580Z",
     "iopub.status.busy": "2024-07-17T05:58:27.822171Z",
     "iopub.status.idle": "2024-07-17T05:58:27.829676Z",
     "shell.execute_reply": "2024-07-17T05:58:27.828519Z"
    },
    "papermill": {
     "duration": 0.021331,
     "end_time": "2024-07-17T05:58:27.831774",
     "exception": false,
     "start_time": "2024-07-17T05:58:27.810443",
     "status": "completed"
    },
    "tags": []
   },
   "outputs": [],
   "source": [
    "def make_predictions(X, W1, b1, W2, b2):\n",
    "    _,_,_,A2 = FP(W1, b1, W2, b2, X)  # Perform forward propagation\n",
    "    predictions = get_predictions(A2)  # Get the predicted class\n",
    "    return predictions\n",
    "\n",
    "def test_prediction(index, W1, b1, W2, b2):\n",
    "    current_image = X_train[:, index, None]  # Select the image at the given index and add a new axis  \n",
    "    \n",
    "    # the None is used to shape the Image to match the expected 2D array for the function FP we need (784,1) not (784,) which\n",
    "    # is not the same shape as (728,41000) so it is necessary to work \n",
    "    \n",
    "    prediction = make_predictions(current_image, W1, b1, W2, b2)  # Make predictions for the selected image\n",
    "    label = Y_train[index]  # Get the true label of the image\n",
    "    print(\"Prediction: \", prediction)  # Print the predicted label\n",
    "    print(\"Label: \", label)  # Print the true label\n",
    "    current_image = current_image.reshape((28, 28)) * 255  # Reshape and scale the image for display\n",
    "    plt.gray()\n",
    "    plt.imshow(current_image, interpolation='nearest')  # Display the image\n",
    "    plt.show()\n"
   ]
  },
  {
   "cell_type": "markdown",
   "id": "b7ab2a78",
   "metadata": {
    "papermill": {
     "duration": 0.010247,
     "end_time": "2024-07-17T05:58:27.852792",
     "exception": false,
     "start_time": "2024-07-17T05:58:27.842545",
     "status": "completed"
    },
    "tags": []
   },
   "source": [
    "# **Test**"
   ]
  },
  {
   "cell_type": "code",
   "execution_count": 15,
   "id": "5c68b886",
   "metadata": {
    "execution": {
     "iopub.execute_input": "2024-07-17T05:58:27.875684Z",
     "iopub.status.busy": "2024-07-17T05:58:27.874929Z",
     "iopub.status.idle": "2024-07-17T05:58:28.101627Z",
     "shell.execute_reply": "2024-07-17T05:58:28.100498Z"
    },
    "papermill": {
     "duration": 0.240551,
     "end_time": "2024-07-17T05:58:28.103854",
     "exception": false,
     "start_time": "2024-07-17T05:58:27.863303",
     "status": "completed"
    },
    "tags": []
   },
   "outputs": [
    {
     "name": "stdout",
     "output_type": "stream",
     "text": [
      "Prediction:  [7]\n",
      "Label:  7\n"
     ]
    },
    {
     "data": {
      "image/png": "[encoded data removed]",
      "text/plain": [
       "<Figure size 640x480 with 1 Axes>"
      ]
     },
     "metadata": {},
     "output_type": "display_data"
    }
   ],
   "source": [
    "test_prediction(12347,W1, b1, W2, b2)"
   ]
  },
  {
   "cell_type": "markdown",
   "id": "3e566e72",
   "metadata": {
    "papermill": {
     "duration": 0.010653,
     "end_time": "2024-07-17T05:58:28.125409",
     "exception": false,
     "start_time": "2024-07-17T05:58:28.114756",
     "status": "completed"
    },
    "tags": []
   },
   "source": [
    "# **Make predictions on the test data**"
   ]
  },
  {
   "cell_type": "code",
   "execution_count": 16,
   "id": "9ad61071",
   "metadata": {
    "execution": {
     "iopub.execute_input": "2024-07-17T05:58:28.149667Z",
     "iopub.status.busy": "2024-07-17T05:58:28.148801Z",
     "iopub.status.idle": "2024-07-17T05:58:28.164958Z",
     "shell.execute_reply": "2024-07-17T05:58:28.163697Z"
    },
    "papermill": {
     "duration": 0.031827,
     "end_time": "2024-07-17T05:58:28.168439",
     "exception": false,
     "start_time": "2024-07-17T05:58:28.136612",
     "status": "completed"
    },
    "tags": []
   },
   "outputs": [
    {
     "name": "stdout",
     "output_type": "stream",
     "text": [
      "[9 8 0 4 6 0 0 3 4 9 2 7 3 5 7 0 6 5 2 9 1 6 8 2 1 2 9 9 6 4 3 7 0 1 7 5 0\n",
      " 1 4 3 1 4 4 2 4 1 6 2 3 1 9 9 6 5 7 8 5 8 4 1 1 6 8 5 7 4 1 1 5 6 5 2 5 7\n",
      " 1 9 6 3 1 6 1 5 0 6 7 1 9 4 1 1 1 6 7 9 3 2 5 3 6 7 0 1 0 1 1 1 9 7 5 0 9\n",
      " 1 4 4 5 7 3 1 8 2 1 3 6 4 9 6 8 1 3 1 9 8 6 9 5 1 5 7 4 6 8 2 2 0 6 8 8 0\n",
      " 7 7 3 6 8 9 3 7 7 2 5 9 7 7 1 3 3 8 5 6 9 3 8 0 8 2 4 4 3 2 3 4 0 9 5 1 6\n",
      " 2 7 6 4 7 7 1 7 3 7 8 2 8 7 4 0 8 8 2 6 7 3 8 0 3 0 8 0 1 3 7 0 3 5 6 6 3\n",
      " 1 8 5 5 2 9 2 5 1 3 6 0 9 1 7 0 6 1 1 4 4 4 0 5 3 4 9 8 4 4 7 6 7 6 0 7 6\n",
      " 6 2 9 6 4 6 4 6 6 4 0 4 7 7 8 7 6 1 3 6 8 1 0 8 3 6 5 8 1 0 1 1 8 8 5 8 1\n",
      " 3 0 1 7 7 2 1 9 4 2 2 1 3 3 0 9 5 0 6 8 9 2 8 7 5 7 8 2 3 9 5 7 7 6 2 6 2\n",
      " 9 2 1 4 3 9 7 3 3 1 8 0 1 6 2 9 7 6 1 4 8 1 7 3 4 1 0 4 3 1 2 2 1 9 8 6 1\n",
      " 5 7 1 3 7 9 9 2 0 8 2 7 2 3 7 1 0 8 0 0 7 9 0 9 1 6 4 8 3 7 0 7 9 6 6 1 3\n",
      " 6 4 5 0 8 5 5 3 8 9 3 5 0 5 6 0 9 6 1 9 5 9 6 8 0 0 1 2 9 1 3 2 0 3 6 2 0\n",
      " 1 1 8 9 3 0 1 6 5 9 5 1 7 4 7 1 0 1 6 5 9 7 5 2 6 6 1 0 4 3 0 7 7 6 1 5 9\n",
      " 6 9 8 2 8 3 3 4 2 6 1 9 2 7 8 7 5 0 6 3 9 5 5 2 1 8 2 8 8 1 4 0 7 4 8 9 6\n",
      " 8 1 0 1 8 8 1 1 4 7 4 4 3 6 9 9 0 2 9 3 0 1 5 1 0 7 4 1 8 7 9 4 2 8 3 8 7\n",
      " 2 1 7 8 6 4 2 2 5 9 2 7 1 7 5 6 1 8 9 4 1 1 6 3 8 4 7 5 4 8 5 6 0 9 8 0 1\n",
      " 6 6 1 1 2 8 3 0 6 3 9 4 1 0 1 8 8 4 8 7 5 4 8 8 6 8 5 5 2 7 5 6 8 6 3 9 4\n",
      " 0 0 4 0 2 8 4 0 2 0 8 6 8 0 5 0 1 4 7 0 4 1 4 1 1 1 6 3 6 4 7 5 6 3 9 1 3\n",
      " 9 5 6 7 3 8 7 7 0 5 6 9 4 9 6 6 1 7 4 4 9 6 7 9 7 0 6 7 1 8 1 0 1 5 8 0 9\n",
      " 0 8 1 7 1 0 9 6 9 3 0 6 6 6 8 2 9 5 2 9 5 3 5 1 0 5 4 0 1 8 7 1 4 2 7 9 9\n",
      " 6 2 5 3 4 8 0 2 1 3 4 2 9 2 2 4 4 8 2 5 1 4 0 9 1 1 8 0 9 0 9 3 5 4 0 0 1\n",
      " 1 0 7 6 6 9 3 1 7 0 5 4 6 9 5 1 6 2 6 0 9 1 2 7 4 6 6 5 7 8 8 3 3 5 3 7 4\n",
      " 1 9 0 0 3 7 9 4 1 5 1 3 5 8 3 3 8 2 6 3 8 1 8 0 5 7 8 7 7 7 7 4 6 9 4 0 0\n",
      " 9 8 3 3 7 4 0 7 8 2 7 8 0 0 2 6 2 9 9 0 3 1 2 2 4 2 3 0 6 2 7 5 8 9 4 3 6\n",
      " 5 1 3 7 2 9 4 2 6 3 4 5 0 1 2 1 9 8 5 4 7 6 9 6 1 2 8 8 4 3 4 3 1 9 4 2 7\n",
      " 7 9 4 9 9 0 3 3 5 8 9 2 6 1 4 9 8 1 8 4 9 6 3 6 2 4 1 2 1 4 4 0 3 1 8 2 7\n",
      " 3 9 1 9 0 3 4 7 8 2 3 2 9 5 8 6 1 2 1 7 7 5 7 0 6 6 9 0 9 2 7 7 8 7 5 8 0\n",
      " 8] [9 8 0 4 6 0 0 3 4 9 2 7 3 5 9 0 6 5 2 9 1 6 8 2 1 2 9 9 6 4 3 7 6 1 7 5 0\n",
      " 1 4 3 1 4 4 2 4 1 5 2 3 1 9 9 6 6 7 8 5 8 4 7 1 6 8 3 7 4 1 1 5 6 5 2 3 7\n",
      " 1 9 6 3 1 6 1 5 4 6 7 1 9 9 1 1 1 6 7 9 3 2 3 3 6 7 0 1 0 1 1 1 9 7 0 0 9\n",
      " 1 4 4 5 7 3 1 8 2 1 3 6 4 9 6 8 1 3 1 9 2 6 9 5 1 0 7 4 6 8 2 8 0 6 8 8 0\n",
      " 7 7 2 6 8 8 3 7 7 2 6 9 7 7 1 3 3 8 5 6 9 3 8 0 8 2 4 4 3 2 3 4 0 8 5 1 6\n",
      " 2 7 6 4 7 7 1 7 3 7 8 2 8 7 4 0 8 8 2 6 7 3 2 0 3 0 3 0 1 3 7 0 3 5 6 6 3\n",
      " 1 8 5 8 2 9 2 9 1 3 6 0 9 1 7 0 6 1 7 4 4 4 0 5 3 4 9 8 4 4 7 6 7 6 0 7 6\n",
      " 6 2 9 6 4 6 4 6 6 4 0 4 7 7 8 7 2 1 3 6 8 1 0 8 3 6 5 8 1 0 1 1 8 8 5 2 1\n",
      " 3 0 1 7 7 2 1 9 5 2 2 1 2 3 0 9 5 0 6 8 9 2 8 7 5 9 8 2 3 9 5 7 7 6 2 6 2\n",
      " 9 2 1 4 3 9 7 3 3 1 8 0 1 6 2 7 7 6 1 9 8 1 7 3 4 1 0 4 3 1 2 2 1 9 8 6 1\n",
      " 5 7 1 3 7 9 9 2 0 8 2 7 2 9 9 1 0 8 0 0 7 9 0 9 1 6 4 8 3 7 0 7 7 6 6 1 3\n",
      " 6 2 5 0 8 9 5 3 8 9 3 5 0 5 6 0 9 6 1 9 9 9 6 8 0 0 1 2 9 1 3 2 0 3 6 2 6\n",
      " 2 1 8 9 3 0 1 6 5 9 5 1 7 4 7 1 0 1 6 5 9 7 5 2 6 6 1 0 4 3 0 7 7 6 1 5 9\n",
      " 6 7 8 2 8 3 3 4 2 6 1 9 2 7 8 7 5 0 6 3 9 5 5 6 1 8 2 8 8 1 4 0 7 4 8 9 6\n",
      " 8 1 0 1 8 8 1 1 4 7 4 4 3 6 9 0 5 2 9 3 0 1 5 1 0 7 4 1 8 7 9 4 2 8 3 8 7\n",
      " 2 1 7 8 6 5 2 2 5 9 2 7 1 5 5 6 1 2 9 4 1 1 6 3 2 2 7 5 4 8 5 6 0 9 8 0 1\n",
      " 6 2 1 1 2 8 3 0 6 3 9 4 1 0 1 8 8 9 8 7 5 4 8 8 6 8 3 5 6 7 5 6 5 6 3 9 4\n",
      " 0 0 5 0 2 0 4 0 2 0 6 6 8 0 5 0 1 2 7 9 4 1 4 1 1 1 6 5 6 4 7 3 6 3 9 1 3\n",
      " 9 5 6 7 3 8 7 7 0 8 6 9 4 9 6 6 1 7 4 4 9 2 7 9 7 0 6 7 1 8 1 0 1 5 8 0 9\n",
      " 0 8 1 7 1 0 9 6 9 3 0 6 6 6 8 2 9 5 2 7 5 3 6 1 0 0 4 8 1 8 7 1 4 2 7 9 9\n",
      " 6 2 5 2 4 8 0 2 1 3 4 2 9 2 2 4 4 8 2 5 1 4 0 9 1 1 8 0 4 0 9 3 5 4 0 0 1\n",
      " 1 6 7 6 6 9 5 1 7 5 5 4 6 0 5 6 6 2 4 0 9 1 2 4 4 6 6 5 7 8 8 3 3 5 3 7 4\n",
      " 1 9 0 0 3 7 9 4 1 5 1 1 5 8 3 3 9 2 6 3 5 1 8 0 5 9 8 7 7 7 7 4 6 9 4 0 0\n",
      " 7 8 3 3 7 4 0 7 8 2 7 8 0 0 2 6 2 9 9 0 3 1 2 2 4 2 3 0 6 3 7 6 5 9 4 3 6\n",
      " 5 1 3 7 6 2 4 2 6 3 4 5 9 1 2 1 9 8 5 4 7 6 9 6 1 2 8 8 4 3 4 3 1 4 4 2 7\n",
      " 7 9 4 9 9 0 3 3 6 8 9 2 6 1 9 9 8 1 8 4 9 6 3 6 2 4 1 2 1 4 9 0 3 1 8 2 7\n",
      " 3 9 1 9 0 3 5 7 8 2 3 2 9 5 8 6 1 2 1 7 7 5 7 0 6 6 9 0 9 2 7 7 8 7 5 8 0\n",
      " 8]\n",
      "the Test_data accuracy is 0.91\n"
     ]
    }
   ],
   "source": [
    "Test_predictions = make_predictions(X_test, W1, b1, W2, b2)\n",
    "print('the Test_data accuracy is',get_accuracy(Test_predictions, Y_test))"
   ]
  },
  {
   "cell_type": "code",
   "execution_count": 17,
   "id": "bfc34864",
   "metadata": {
    "execution": {
     "iopub.execute_input": "2024-07-17T05:58:28.207164Z",
     "iopub.status.busy": "2024-07-17T05:58:28.206658Z",
     "iopub.status.idle": "2024-07-17T05:58:29.751432Z",
     "shell.execute_reply": "2024-07-17T05:58:29.750302Z"
    },
    "papermill": {
     "duration": 1.56717,
     "end_time": "2024-07-17T05:58:29.754096",
     "exception": false,
     "start_time": "2024-07-17T05:58:28.186926",
     "status": "completed"
    },
    "tags": []
   },
   "outputs": [
    {
     "name": "stdout",
     "output_type": "stream",
     "text": [
      "25 images that the AI get wrong:\n",
      "\n"
     ]
    },
    {
     "data": {
      "image/png": "[encoded data removed]",
      "text/plain": [
       "<Figure size 1500x600 with 25 Axes>"
      ]
     },
     "metadata": {},
     "output_type": "display_data"
    }
   ],
   "source": [
    "# Identify mistakes\n",
    "mistakes = np.where(Test_predictions!= Y_test)[0]\n",
    "    \n",
    "# Get up to 10 indices of mistakes\n",
    "mistake_indices = mistakes[:25]\n",
    "\n",
    "print('25 images that the AI get wrong:\\n')\n",
    "\n",
    "# Plot the images of the mistakes\n",
    "fig, axes = plt.subplots(5, 5, figsize=(15, 6))  # Create a 5x5 grid for plotting\n",
    "axes = axes.flatten()  # Flatten the grid for easy iteration\n",
    "    \n",
    "for i, index in enumerate(mistake_indices):\n",
    "    current_image = X_test[:, index, None].reshape((28, 28)) * 255  # Reshape and scale the image\n",
    "    true_label = Y_test[index]  # Get the true label\n",
    "    predicted_label = Test_predictions[index]  # Get the predicted label\n",
    "        \n",
    "    # Plot the image\n",
    "    axes[i].imshow(current_image, interpolation='nearest', cmap='gray')\n",
    "    axes[i].set_title(f\"True: {true_label}\\nPred: {predicted_label}\")\n",
    "    axes[i].axis('off')  # Turn off the axis\n",
    "    \n",
    "plt.tight_layout()\n",
    "plt.show()"
   ]
  }
 ],
 "metadata": {
  "kaggle": {
   "accelerator": "none",
   "dataSources": [
    {
     "databundleVersionId": 861823,
     "sourceId": 3004,
     "sourceType": "competition"
    }
   ],
   "dockerImageVersionId": 30746,
   "isGpuEnabled": false,
   "isInternetEnabled": false,
   "language": "python",
   "sourceType": "notebook"
  },
  "kernelspec": {
   "display_name": "Python 3",
   "language": "python",
   "name": "python3"
  },
  "language_info": {
   "codemirror_mode": {
    "name": "ipython",
    "version": 3
   },
   "file_extension": ".py",
   "mimetype": "text/x-python",
   "name": "python",
   "nbconvert_exporter": "python",
   "pygments_lexer": "ipython3",
   "version": "3.10.13"
  },
  "papermill": {
   "default_parameters": {},
   "duration": 60.594438,
   "end_time": "2024-07-17T05:58:30.286623",
   "environment_variables": {},
   "exception": null,
   "input_path": "__notebook__.ipynb",
   "output_path": "__notebook__.ipynb",
   "parameters": {},
   "start_time": "2024-07-17T05:57:29.692185",
   "version": "2.5.0"
  }
 },
 "nbformat": 4,
 "nbformat_minor": 5
}
